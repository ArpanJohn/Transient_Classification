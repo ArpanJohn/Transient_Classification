{
 "cells": [
  {
   "cell_type": "code",
   "execution_count": 10,
   "metadata": {},
   "outputs": [
    {
     "name": "stdout",
     "output_type": "stream",
     "text": [
      "                filename category\n",
      "0     SFLARE_bn120304540    train\n",
      "1        TGF_bn121207917    train\n",
      "2     SFLARE_bn230110615    other\n",
      "3     SFLARE_bn131106078    train\n",
      "4        TGF_bn230525789    train\n",
      "...                  ...      ...\n",
      "4861     SGR_bn090122551     test\n",
      "4862     SGR_bn221011445    train\n",
      "4863     SGR_bn220114811    train\n",
      "4864     SGR_bn230317495    train\n",
      "4865     SGR_bn160623838    train\n",
      "\n",
      "[4866 rows x 2 columns]\n"
     ]
    }
   ],
   "source": [
    "import os\n",
    "import pandas as pd\n",
    "\n",
    "# Define the directories\n",
    "all_dir = r\"C:\\Users\\arpan\\OneDrive\\Documents\\GRB\\data\\dp14-07-1\\all\"\n",
    "test_dir = r\"C:\\Users\\arpan\\OneDrive\\Documents\\GRB\\data\\dp14-07-1\\test\"\n",
    "train_dir = r\"C:\\Users\\arpan\\OneDrive\\Documents\\GRB\\data\\dp14-07-1\\train\"\n",
    "\n",
    "# Get list of files in each directory\n",
    "all_files = set(os.listdir(all_dir))\n",
    "test_files = set(os.listdir(test_dir))\n",
    "train_files = set(os.listdir(train_dir))\n",
    "\n",
    "# Create a dataframe\n",
    "df = pd.DataFrame({'filename': list(all_files)})\n",
    "\n",
    "# Function to determine the category of each file\n",
    "def get_category(filename):\n",
    "    if filename in test_files:\n",
    "        return 'test'\n",
    "    elif filename in train_files:\n",
    "        return 'train'\n",
    "    else:\n",
    "        return 'other'\n",
    "\n",
    "# Apply the function to create a new column\n",
    "df['category'] = df['filename'].apply(get_category)\n",
    "\n",
    "# Drop rows that do not start with GRB_, TGF_, SGR_, SLFARE_\n",
    "valid_prefixes = ('GRB_', 'TGF_', 'SGR_', 'SFLARE_')\n",
    "df = df[df['filename'].str.startswith(valid_prefixes)]\n",
    "\n",
    "# Duplicate rows where filename starts with 'SGR_'\n",
    "sgr_rows = df[df['filename'].str.startswith('SGR_')]\n",
    "df = pd.concat([df, sgr_rows]).reset_index(drop=True)\n",
    "\n",
    "# Display the result\n",
    "print(df)"
   ]
  },
  {
   "cell_type": "code",
   "execution_count": 20,
   "metadata": {},
   "outputs": [],
   "source": [
    "df = pd.read_csv('ttsplit')"
   ]
  },
  {
   "cell_type": "code",
   "execution_count": 22,
   "metadata": {},
   "outputs": [
    {
     "name": "stdout",
     "output_type": "stream",
     "text": [
      "\n",
      "Category counts:\n",
      "category\n",
      "train    3200\n",
      "other     882\n",
      "test      784\n",
      "Name: count, dtype: int64\n",
      "\n",
      "events in 'train':\n",
      "  GRB_: 800\n",
      "  TGF_: 800\n",
      "  SGR_: 800\n",
      "  SFLARE_: 800\n",
      "  Total: 3200\n",
      "\n",
      "events in 'test':\n",
      "  GRB_: 200\n",
      "  TGF_: 200\n",
      "  SGR_: 184\n",
      "  SFLARE_: 200\n",
      "  Total: 784\n",
      "\n",
      "events in 'other':\n",
      "  GRB_: 655\n",
      "  TGF_: 142\n",
      "  SGR_: 0\n",
      "  SFLARE_: 85\n",
      "  Total: 882\n",
      "\n",
      "Overall totals:\n",
      "  GRB_: 1655\n",
      "  TGF_: 1142\n",
      "  SGR_: 984\n",
      "  SFLARE_: 1085\n",
      "  Total files: 4866\n"
     ]
    }
   ],
   "source": [
    "# Get the count of each category\n",
    "category_counts = df['category'].value_counts()\n",
    "\n",
    "# Display the category counts\n",
    "print(\"\\nCategory counts:\")\n",
    "print(category_counts)\n",
    "\n",
    "# Count the number of prefixes in each category\n",
    "for category in ['train', 'test', 'other']:\n",
    "    print(f\"\\nevents in '{category}':\")\n",
    "    category_df = df[df['category'] == category]\n",
    "    for prefix in valid_prefixes:\n",
    "        count = category_df['filename'].str.startswith(prefix).sum()\n",
    "        print(f\"  {prefix}: {count}\")\n",
    "    print(f\"  Total: {len(category_df)}\")\n",
    "\n",
    "# Display overall totals\n",
    "print(\"\\nOverall totals:\")\n",
    "for prefix in valid_prefixes:\n",
    "    total = df['filename'].str.startswith(prefix).sum()\n",
    "    print(f\"  {prefix}: {total}\")\n",
    "print(f\"  Total files: {len(df)}\")"
   ]
  },
  {
   "cell_type": "code",
   "execution_count": 18,
   "metadata": {},
   "outputs": [],
   "source": [
    "df.to_csv('ttsplit')"
   ]
  }
 ],
 "metadata": {
  "kernelspec": {
   "display_name": "base",
   "language": "python",
   "name": "python3"
  },
  "language_info": {
   "codemirror_mode": {
    "name": "ipython",
    "version": 3
   },
   "file_extension": ".py",
   "mimetype": "text/x-python",
   "name": "python",
   "nbconvert_exporter": "python",
   "pygments_lexer": "ipython3",
   "version": "3.9.18"
  }
 },
 "nbformat": 4,
 "nbformat_minor": 2
}
