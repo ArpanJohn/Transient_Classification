{
 "cells": [
  {
   "cell_type": "code",
   "execution_count": 57,
   "id": "5622a04f",
   "metadata": {},
   "outputs": [],
   "source": [
    "import numpy as np\n",
    "import matplotlib as mpl\n",
    "import matplotlib.pyplot as plt\n",
    "import math\n",
    "from astropy.io import ascii\n",
    "import matplotlib.patches as mpatches\n",
    "from matplotlib import rc,rcParams\n",
    "from astropy.table import Table\n",
    "import matplotlib\n",
    "%matplotlib inline\n",
    "%matplotlib notebook\n",
    "from astropy.io import fits\n",
    "from numpy import arange"
   ]
  },
  {
   "cell_type": "code",
   "execution_count": 58,
   "id": "0afa0362",
   "metadata": {},
   "outputs": [
    {
     "data": {
      "text/plain": [
       "'/Users/shabnamiyyani/Gamma_ray_burst Dropbox/Shabnam Iyyani/Calculating_det_angles'"
      ]
     },
     "execution_count": 58,
     "metadata": {},
     "output_type": "execute_result"
    }
   ],
   "source": [
    "pwd"
   ]
  },
  {
   "cell_type": "code",
   "execution_count": 59,
   "id": "1f1b4902",
   "metadata": {},
   "outputs": [],
   "source": [
    "#Co-ordinates of the object\n",
    "ra_obj =  171.248#in degrees\n",
    "dec_obj = 42.343#in degrees"
   ]
  },
  {
   "cell_type": "code",
   "execution_count": 60,
   "id": "c3d535cd",
   "metadata": {},
   "outputs": [],
   "source": [
    "#Get the spacecraft pointing \n",
    "#Event file name  ############Detector N7###########\n",
    "event_filename ='/Users/shabnamiyyani/Gamma_ray_burst Dropbox/Shabnam Iyyani/Calculating_det_angles/bn160821857/current/glg_trigdat_all_bn160821857_v01.fit'\n",
    "\n",
    "#Open the fits file \n",
    "pha_list = fits.open(event_filename, memmap=True)\n",
    "\n",
    "\n",
    "#Get info of the fits file\n",
    "ra_scx = pha_list[0].header['RA_SCX']\n",
    "dec_scx = pha_list[0].header['DEC_SCX']\n",
    "ra_scz = pha_list[0].header['RA_SCZ']\n",
    "dec_scz = pha_list[0].header['DEC_SCZ']\n"
   ]
  },
  {
   "cell_type": "code",
   "execution_count": 61,
   "id": "6384f8cf",
   "metadata": {},
   "outputs": [],
   "source": [
    "import angularDistance\n",
    "import Dataset\n",
    "det = ['n0','n1','n2','n3','n4','n5','n6','n7','n8','n9','na','nb','b0','b1','LAT']"
   ]
  },
  {
   "cell_type": "code",
   "execution_count": 62,
   "id": "ec6eb467",
   "metadata": {},
   "outputs": [
    {
     "name": "stdout",
     "output_type": "stream",
     "text": [
      "n0 38\n",
      "n1 62\n",
      "n2 104\n",
      "n3 56\n",
      "n4 96\n",
      "n5 108\n",
      "n6 10\n",
      "n7 31\n",
      "n8 76\n",
      "n9 39\n",
      "na 85\n",
      "nb 72\n",
      "b0 108\n",
      "b1 72\n",
      "LAT 18\n",
      "The brightest detector is n6\n"
     ]
    }
   ],
   "source": [
    "angls={}\n",
    "val_ang=[]\n",
    "for d in det:\n",
    "    angle = angularDistance.getDetectorAngle(ra_scx, dec_scx, ra_scz, dec_scz, ra_obj, dec_obj,\n",
    "                                                              d)\n",
    "    \n",
    "    #angleString = '%3.0f' % (angle)\n",
    "    angls[round(angle)]=d\n",
    "    val_ang.append(round(angle))\n",
    "    print(d,round(angle))\n"
   ]
  },
  {
   "cell_type": "code",
   "execution_count": 88,
   "id": "270d82ed",
   "metadata": {},
   "outputs": [
    {
     "name": "stdout",
     "output_type": "stream",
     "text": [
      "{10: 'n6', 31: 'n7', 38: 'n0', 39: 'n9', 56: 'n3', 62: 'n1', 76: 'n8', 85: 'na', 96: 'n4', 104: 'n2'}\n",
      "{72: 'b1', 108: 'b0'}\n",
      "The brightest NaI detector is n6 - Source angle is: 10 deg\n",
      "The brightest 3 NaI detectors are n6 ( 10 deg) n7 ( 31 deg) n0 ( 38 deg)\n",
      "The brightest BGO detector is b1 ( 72 deg )\n"
     ]
    }
   ],
   "source": [
    "#Sorting the dictionary to select only NaI and BGO detectors into separate dictionaries\n",
    "dict_nai={}\n",
    "dict_bgo={}\n",
    "for key, val in angls.items():\n",
    "    if val in ['n0','n1','n2','n3','n4','n5','n6','n7','n8','n9','na','nb']:\n",
    "        dict_nai[key]=val\n",
    "    else:\n",
    "        if val in ['b0','b1']:\n",
    "            dict_bgo[key]=val\n",
    "#Sort the NaI and BGO dictionary in ascending order\n",
    "l_nai = list(dict_nai.items())\n",
    "l_nai.sort() #sorting in ascending order\n",
    "angls_nai = dict(l_nai)\n",
    "l_bgo = list(dict_bgo.items())\n",
    "l_bgo.sort() #sorting in ascending order\n",
    "angls_bgo = dict(l_bgo)\n",
    "res_nai = list(angls_nai.keys())\n",
    "res_bgo = list(angls_bgo.keys())\n",
    "print(angls_nai)\n",
    "print(angls_bgo)\n",
    "print('The brightest NaI detector is',angls_nai[res_nai[0]],'- Source angle is:',res_nai[0],'deg')\n",
    "print('The brightest 3 NaI detectors are',angls_nai[res_nai[0]],'(',res_nai[0],'deg)',angls_nai[res_nai[1]],'(',res_nai[1],'deg)',angls_nai[res_nai[2]],'(',res_nai[2],'deg)')\n",
    "print('The brightest BGO detector is',angls_bgo[res_bgo[0]],'(',res_bgo[0],'deg )')"
   ]
  },
  {
   "cell_type": "code",
   "execution_count": 91,
   "id": "b2c7fe96",
   "metadata": {},
   "outputs": [
    {
     "name": "stdout",
     "output_type": "stream",
     "text": [
      "n0 38\n",
      "n1 62\n",
      "n2 104\n",
      "n3 56\n",
      "n4 96\n",
      "n5 108\n",
      "n6 10\n",
      "n7 31\n",
      "n8 76\n",
      "n9 39\n",
      "na 85\n",
      "nb 72\n",
      "b0 108\n",
      "b1 72\n",
      "LAT-LLE 18\n",
      "LAT 18\n",
      "The brightest NaI detector is n6\n",
      "The brightest NaI detector is n6 - Source angle is: 10 deg\n",
      "The brightest 3 NaI detectors are n6 ( 10 deg) n7 ( 31 deg) n0 ( 38 deg)\n",
      "The brightest BGO detector is b1 ( 72 deg )\n"
     ]
    }
   ],
   "source": [
    "import estimate_source_angles_detectors\n",
    "\n",
    "brightest_nai, bright_nais, brightest_bgo = estimate_source_angles_detectors.angle_to_grb(ra_obj,dec_obj,'/Users/shabnamiyyani/Gamma_ray_burst Dropbox/Shabnam Iyyani/Calculating_det_angles/bn160821857/current/glg_trigdat_all_bn160821857_v01.fit')"
   ]
  },
  {
   "cell_type": "code",
   "execution_count": 92,
   "id": "8661c5de",
   "metadata": {},
   "outputs": [
    {
     "name": "stdout",
     "output_type": "stream",
     "text": [
      "n6 ['n6', 'n7', 'n0'] ['b1']\n"
     ]
    }
   ],
   "source": []
  },
  {
   "cell_type": "code",
   "execution_count": null,
   "id": "66a10838",
   "metadata": {},
   "outputs": [],
   "source": []
  }
 ],
 "metadata": {
  "kernelspec": {
   "display_name": "Python 3 (ipykernel)",
   "language": "python",
   "name": "python3"
  },
  "language_info": {
   "codemirror_mode": {
    "name": "ipython",
    "version": 3
   },
   "file_extension": ".py",
   "mimetype": "text/x-python",
   "name": "python",
   "nbconvert_exporter": "python",
   "pygments_lexer": "ipython3",
   "version": "3.7.10"
  }
 },
 "nbformat": 4,
 "nbformat_minor": 5
}
