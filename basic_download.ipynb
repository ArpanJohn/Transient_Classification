{
 "cells": [
  {
   "cell_type": "code",
   "execution_count": 5,
   "metadata": {},
   "outputs": [],
   "source": [
    "from Tools import tools\n",
    "import os\n",
    "import glob\n",
    "from astropy.io import fits\n",
    "from Calculating_det_angles import estimate_source_angles_detectors  # Importing ma'am's function\n"
   ]
  },
  {
   "cell_type": "code",
   "execution_count": 4,
   "metadata": {},
   "outputs": [
    {
     "name": "stdout",
     "output_type": "stream",
     "text": [
      "2012/\n",
      "download start\n",
      "Error downloading the file: Command 'wget -q -nH --no-check-certificate --cut-dirs=7 -r -l0 -c -N -np -A \"*_trigdat_*\" -R \"index*\" -erobots=off --retr-symlinks https://heasarc.gsfc.nasa.gov/FTP/fermi/data/gbm/triggers/2012/bn120403857/current/ -P ' returned non-zero exit status 1.\n"
     ]
    },
    {
     "ename": "NameError",
     "evalue": "name 'os' is not defined",
     "output_type": "error",
     "traceback": [
      "\u001b[1;31m---------------------------------------------------------------------------\u001b[0m",
      "\u001b[1;31mNameError\u001b[0m                                 Traceback (most recent call last)",
      "Cell \u001b[1;32mIn[4], line 11\u001b[0m\n\u001b[0;32m      9\u001b[0m \u001b[38;5;66;03m# Finding Trigdat file\u001b[39;00m\n\u001b[0;32m     10\u001b[0m trig_string \u001b[38;5;241m=\u001b[39m \u001b[38;5;124m\"\u001b[39m\u001b[38;5;124m_trigdat_\u001b[39m\u001b[38;5;124m\"\u001b[39m\n\u001b[1;32m---> 11\u001b[0m trig_pattern \u001b[38;5;241m=\u001b[39m \u001b[43mos\u001b[49m\u001b[38;5;241m.\u001b[39mpath\u001b[38;5;241m.\u001b[39mjoin(download_path, \u001b[38;5;124m'\u001b[39m\u001b[38;5;124mcurrent\u001b[39m\u001b[38;5;124m'\u001b[39m, \u001b[38;5;124mf\u001b[39m\u001b[38;5;124m\"\u001b[39m\u001b[38;5;124m*\u001b[39m\u001b[38;5;132;01m{\u001b[39;00mtrig_string\u001b[38;5;132;01m}\u001b[39;00m\u001b[38;5;124m*\u001b[39m\u001b[38;5;124m\"\u001b[39m)\n\u001b[0;32m     12\u001b[0m trigdat_file \u001b[38;5;241m=\u001b[39m glob\u001b[38;5;241m.\u001b[39mglob(trig_pattern)\n\u001b[0;32m     14\u001b[0m \u001b[38;5;66;03m# Get the spacecraft pointing from here\u001b[39;00m\n",
      "\u001b[1;31mNameError\u001b[0m: name 'os' is not defined"
     ]
    }
   ],
   "source": [
    "event = \"bn120403857\"\n",
    "year = '20' + event[2:4] + \"/\"\n",
    "download_path = \"\"\n",
    "print(year)\n",
    "# URL of the file you want to download\n",
    "url = 'wget -q -nH --no-check-certificate --cut-dirs=7 -r -l0 -c -N -np -A \"*_trigdat_*\" -R \"index*\" -erobots=off --retr-symlinks https://heasarc.gsfc.nasa.gov/FTP/fermi/data/gbm/triggers/' + year + event + '/current/'\n",
    "tools.run_wget_download(url, download_path)\n",
    "\n",
    "# Finding Trigdat file\n",
    "trig_string = \"_trigdat_\"\n",
    "trig_pattern = os.path.join(download_path, 'current', f\"*{trig_string}*\")\n",
    "trigdat_file = glob.glob(trig_pattern)\n",
    "\n",
    "# Get the spacecraft pointing from here\n",
    "event_filename = trigdat_file[0]\n",
    "\n",
    "# Getting the RA and DEC\n",
    "with fits.open(event_filename, memmap=True) as pha_list:\n",
    "    ra_obj, dec_obj = (pha_list[0].header['RA_OBJ']), (pha_list[0].header['DEC_OBJ'])\n",
    "\n",
    "\n",
    "brightest_nai, bright_nais, brightest_bgo = estimate_source_angles_detectors.angle_to_grb(ra_obj, dec_obj,event_filename)\n",
    "\n",
    "# URL of the tte file to download\n",
    "url = 'wget -q -nH --no-check-certificate --cut-dirs=7 -r -l0 -c -N -np -A \"*_tte_' + brightest_nai + '_*\" -R \"index*\" -erobots=off --retr-symlinks https://heasarc.gsfc.nasa.gov/FTP/fermi/data/gbm/triggers/' + year + event + '/current/'\n",
    "\n",
    "# Construct the wget command\n",
    "tools.run_wget_download(url, download_path)"
   ]
  }
 ],
 "metadata": {
  "kernelspec": {
   "display_name": "base",
   "language": "python",
   "name": "python3"
  },
  "language_info": {
   "codemirror_mode": {
    "name": "ipython",
    "version": 3
   },
   "file_extension": ".py",
   "mimetype": "text/x-python",
   "name": "python",
   "nbconvert_exporter": "python",
   "pygments_lexer": "ipython3",
   "version": "3.9.18"
  }
 },
 "nbformat": 4,
 "nbformat_minor": 2
}
