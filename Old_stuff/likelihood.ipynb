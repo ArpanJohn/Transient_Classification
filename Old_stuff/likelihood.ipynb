{
 "cells": [
  {
   "cell_type": "code",
   "execution_count": 28,
   "metadata": {},
   "outputs": [
    {
     "name": "stdout",
     "output_type": "stream",
     "text": [
      "Maximum Likelihood Parameter: 91.99918224722047\n"
     ]
    }
   ],
   "source": [
    "import numpy as np\n",
    "import matplotlib.pylab as plt\n",
    "import math \n",
    "import numpy as np\n",
    "from scipy.optimize import minimize\n",
    "\n",
    "import numpy as np\n",
    "from scipy.optimize import minimize\n",
    "from scipy.special import factorial\n",
    "\n",
    "def poisson_log_likelihood(observed, expected_mean):\n",
    "    \"\"\"\n",
    "    Calculate the log-likelihood assuming a Poisson distribution.\n",
    "\n",
    "    Parameters:\n",
    "    - observed: An array of observed values.\n",
    "    - expected_mean: The expected mean of the Poisson distribution.\n",
    "\n",
    "    Returns:\n",
    "    - log_likelihood: The sum of log-likelihood values for all observations.\n",
    "    \"\"\"\n",
    "    return -np.sum(expected_mean) + np.sum(observed * np.log(expected_mean) - np.log(factorial(observed)))\n",
    "\n",
    "def find_maximum_likelihood(observed):\n",
    "    \"\"\"\n",
    "    Find the parameter that maximizes the Poisson likelihood for multiple observations.\n",
    "\n",
    "    Parameters:\n",
    "    - observed: An array of observed values.\n",
    "\n",
    "    Returns:\n",
    "    - max_likelihood_params: The parameter that maximizes the likelihood.\n",
    "    \"\"\"\n",
    "    # Define a function to minimize (negative log-likelihood)\n",
    "    neg_log_likelihood = lambda x: -poisson_log_likelihood(observed, x)\n",
    "\n",
    "    # Make an initial guess for the parameter\n",
    "    initial_guess = [np.mean(observed)]\n",
    "\n",
    "    # Minimize the negative log-likelihood\n",
    "    result = minimize(neg_log_likelihood, initial_guess, method='BFGS')\n",
    "\n",
    "    # Extract the parameter that maximizes the likelihood\n",
    "    max_likelihood_params = result.x[0]\n",
    "\n",
    "    if result.success:\n",
    "        return max_likelihood_params\n",
    "    else:\n",
    "        print('error')\n",
    "        quit()\n",
    "\n",
    "# Example usage:\n",
    "# Set the random seed for reproducibility\n",
    "np.random.seed(42)\n",
    "# Generate a Poisson distribution with parameter 5\n",
    "observed_values = np.random.poisson(lam=5, size=20,)\n",
    "\n",
    "# Find the parameter that maximizes the likelihood for the given observations\n",
    "max_likelihood_parameter = find_maximum_likelihood(observed_values)\n",
    "\n",
    "print(f\"Maximum Likelihood Parameter: {max_likelihood_parameter}\")\n",
    "\n",
    "\n",
    "\n",
    "# def poisson_likelihood(parameter,observation):\n",
    "\n",
    "# # Generate a Poisson distribution with parameter 5\n",
    "# hist = np.random.poisson(lam=5, size=20)\n",
    "# hist = [3,4]\n",
    "# print(hist)\n",
    "# mean = find_maximum_likelihood(hist[0])\n",
    "# threshold = 1/8\n",
    "# for i in range(1,len(hist)):\n",
    "#     observed = hist[i]\n",
    "#     likelihood1 = (math.exp(-mean) * mean**observed) / math.factorial(observed)\n",
    "#     likelihood2 = (math.exp(-observed) * observed**observed) / math.factorial(observed)\n",
    "#     l_ratio = likelihood2 / likelihood1\n",
    "#     print(\"l_ratio\",l_ratio)\n",
    "#     if l_ratio > threshold:\n",
    "#         mean =  (mean + observed) / i+1\n",
    "#     else:\n",
    "#         print('flag')\n",
    "\n",
    "# print(mean)\n",
    "\n"
   ]
  },
  {
   "cell_type": "code",
   "execution_count": 10,
   "metadata": {},
   "outputs": [
    {
     "name": "stdout",
     "output_type": "stream",
     "text": [
      "0.16803135574154082 0.19536681481316456\n",
      "1.1626807029615953\n"
     ]
    }
   ],
   "source": [
    "likelihood1 = (math.exp(-3) * 3**4) / math.factorial(4)\n",
    "likelihood2 = (math.exp(-4) * 4**4) / math.factorial(4)\n",
    "l_ratio = likelihood2 / likelihood1\n",
    "print(likelihood1,likelihood2)\n",
    "print(l_ratio)"
   ]
  }
 ],
 "metadata": {
  "kernelspec": {
   "display_name": "base",
   "language": "python",
   "name": "python3"
  },
  "language_info": {
   "codemirror_mode": {
    "name": "ipython",
    "version": 3
   },
   "file_extension": ".py",
   "mimetype": "text/x-python",
   "name": "python",
   "nbconvert_exporter": "python",
   "pygments_lexer": "ipython3",
   "version": "3.9.12"
  }
 },
 "nbformat": 4,
 "nbformat_minor": 2
}
