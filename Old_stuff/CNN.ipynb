{
 "cells": [
  {
   "cell_type": "code",
   "execution_count": null,
   "id": "0607f590-5057-4a46-9415-a5a9cf681541",
   "metadata": {},
   "outputs": [],
   "source": [
    "#importing necessary libraries \n",
    "\n",
    "import numpy as np\n",
    "import pandas as pd\n",
    "import matplotlib.pyplot as plt\n",
    "import random\n",
    "import tensorflow as tf\n",
    "from tensorflow.keras import datasets, layers, models\n",
    "\n",
    "import os\n",
    "import shutil\n",
    "import json\n",
    "import glob"
   ]
  },
  {
   "cell_type": "code",
   "execution_count": null,
   "id": "61b938c3-dd66-41f5-9bd5-4a740b7514df",
   "metadata": {},
   "outputs": [],
   "source": [
    "# data importing as a train and validation datasets\n",
    "\n",
    "#train_ds = \n",
    "#valid_ds = "
   ]
  },
  {
   "cell_type": "code",
   "execution_count": null,
   "id": "72781de4-4127-42f5-b550-d11b18dd5803",
   "metadata": {},
   "outputs": [],
   "source": [
    "#Filtering data according to their types by spcifying labels to the data and using it.\n",
    "\n",
    "train_Distpar = train_ds.filter(lambda image, label: label == #label value)\n",
    "train_GRB = train_ds.filter(lambda image, label: label == #label value)\n",
    "train_TGF = train_ds.filter(lambda image, label: label == #label value)\n",
    "train_SGR = train_ds.filter(lambda image, label: label == #label value)\n",
    "train_LOCL = train_ds.filter(lambda image, label: label == #label value)\n",
    "train_Sflare = train_ds.filter(lambda image, label: label == #label value)\n",
    "train_Transnt = train_ds.filter(lambda image, label: label == #label value)\n",
    "\n",
    "valid_distpar = train_ds.filter(lambda image, label: label == #label value)\n",
    "valid_GRB = train_ds.filter(lambda image, label: label == #label value)\n",
    "valid_TGF= train_ds.filter(lambda image, label: label == #label value)                                \n",
    "valid_SGR = train_ds.filter(lambda image, label: label == #label value) \n",
    "valid_LOCL = train_ds.filter(lambda image, label: label == #label value)\n",
    "valid_Sflare = train_ds.filter(lambda image, label: label == #label value)\n",
    "valid_Transnt = train_ds.filter(lambda image, label: label == #label value)                               "
   ]
  },
  {
   "cell_type": "code",
   "execution_count": null,
   "id": "846212a0-1a17-4f97-842e-731f6d675c9c",
   "metadata": {},
   "outputs": [],
   "source": [
    "#Generating a dataset which consists of equal no. of elements from each type\n",
    "\n",
    "batch_size = 4\n",
    "\n",
    "train_ds = tf.data.Dataset.sample_from_datasets([train_Distpar,train_GRB,train_TGF,train_SGR,train_LOCL,train_Sflare,train_Transnt],\n",
    "                                               [0.1428,0.1428,0.1428,0.1428,0.1428,0.1428,0.1428],\n",
    "                                               stop_on_empty_dataset=True)\n",
    "\n",
    "train_ds = train_ds.cache().batch(batch_size).prefetch(tf.data.AUTOTUNE) \n",
    "\n",
    "valid_ds = tf.data.Dataset.sample_from_datasets([valid_Distpar,valid_GRB,valid_TGF,valid_SGR,valid_LOCL,valid_Sflare,valid_Transnt],\n",
    "                                               [0.1428,0.1428,0.1428,0.1428,0.1428,0.1428,0.1428],\n",
    "                                               stop_on_empty_dataset=True)\n",
    "\n",
    "valid_ds = valid_ds.cache().batch(batch_size).prefetch(tf.data.AUTOTUNE)"
   ]
  },
  {
   "cell_type": "code",
   "execution_count": null,
   "id": "924f0964-9a6b-4b2c-9c12-b5b5884859a7",
   "metadata": {},
   "outputs": [],
   "source": [
    "# adding layers in neural network\n",
    "\n",
    "random.seed(0)\n",
    "model = models.Sequential()\n",
    "\n",
    "model.add(layers.Conv2D(128,(3,3),activation= 'relu',\"\"\"input_shape=(MAX_SIDE_LEN,MAX_SIDE_LEN,3\"\"\")))\n",
    "model.add(layers.MaxPooling2D((2,2)))\n",
    "model.add(layers.Flatten())\n",
    "# For multi-class classification\n",
    "model.add(layers.Dense(num_classes, activation='softmax'))"
   ]
  },
  {
   "cell_type": "code",
   "execution_count": null,
   "id": "6f4de600-667c-456a-bf73-69cd4bc43d9a",
   "metadata": {},
   "outputs": [],
   "source": [
    "learning_rate = 0.0001 #sprcifying learning rate"
   ]
  },
  {
   "cell_type": "code",
   "execution_count": null,
   "id": "2e1f72dc-2f97-4d70-8124-65842d3e21da",
   "metadata": {},
   "outputs": [],
   "source": [
    "model.compile(optimizer=tf.keras.optimizers.Adam(learning_rate),\n",
    "              loss=tf.keras.losses.CategoricalCrossentropy(),\n",
    "              metrics='accuracy')"
   ]
  },
  {
   "cell_type": "code",
   "execution_count": null,
   "id": "20f5cc8d-425d-4b2b-aff2-99712d6d6704",
   "metadata": {},
   "outputs": [],
   "source": [
    "epochs = 35\n",
    "history  = model.fit(\n",
    "    train_ds,\n",
    "    validation_data = valid_ds,\n",
    "    epochs=epochs,\n",
    "    verbose=1\n",
    ")"
   ]
  }
 ],
 "metadata": {
  "kernelspec": {
   "display_name": "Python 3 (ipykernel)",
   "language": "python",
   "name": "python3"
  },
  "language_info": {
   "codemirror_mode": {
    "name": "ipython",
    "version": 3
   },
   "file_extension": ".py",
   "mimetype": "text/x-python",
   "name": "python",
   "nbconvert_exporter": "python",
   "pygments_lexer": "ipython3",
   "version": "3.11.5"
  }
 },
 "nbformat": 4,
 "nbformat_minor": 5
}
